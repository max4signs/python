{
 "cells": [
  {
   "cell_type": "code",
   "execution_count": null,
   "id": "071d4b4b",
   "metadata": {},
   "outputs": [],
   "source": [
    "import pandas as pd\n",
    "import requests\n",
    "import sys\n",
    "from datetime import date"
   ]
  },
  {
   "cell_type": "code",
   "execution_count": null,
   "id": "b47c0e86",
   "metadata": {
    "scrolled": true
   },
   "outputs": [],
   "source": [
    "def findme():\n",
    "    term = input('What is your favourite musical group? ').strip()\n",
    "    country = input('Where do you come from?\\nPlease use the ISO country code like US, RU, HU, etc. ').strip()\n",
    "    base = 'https://itunes.apple.com/search?'\n",
    "    dic = []\n",
    "    today = date.today().strftime(\"%d-%b-%Y\")\n",
    "\n",
    "    response = requests.get(base, params = {'term' : term, 'country' : country, 'media' : 'music', 'limit' : 200})\n",
    "\n",
    "    if response.ok == True:\n",
    "        if response.json()['resultCount'] != 0:        \n",
    "            for i in response.json()['results']:\n",
    "                dic.append({'artistName' : i['artistName'],\n",
    "                            'Trackname' : i['trackName'], \n",
    "                            'Price' : i['collectionPrice'], \n",
    "                            'Currency' :  i['currency'], \n",
    "                            'Release Date' : i['releaseDate'],\n",
    "                            'trackViewUrl': i['trackViewUrl']})\n",
    "            col_names = list(dic[0])\n",
    "            df = pd.DataFrame(dic, columns = col_names)\n",
    "            df.sort_values('Release Date', ascending = False, inplace = True)\n",
    "            df.drop_duplicates('Trackname', inplace = True)\n",
    "            df.to_excel('{0}_{1}.xlsx'.format(term, today))\n",
    "            print('Your file is ready and saved with the following name: \"{0}_{1}.xlsx\".\\n' \n",
    "                  'Please check the Downloads folder first.\\n'\n",
    "                  'Have a nice day!'.format(term, today))\n",
    "        else:\n",
    "            one_more_time = input('Unfortunately I could not catch any result.\\n'\n",
    "                                  'Would you like to try it again? Y or N ').upper()\n",
    "            if one_more_time == 'Y':\n",
    "                findme()\n",
    "            elif one_more_time == 'N':\n",
    "                quit()\n",
    "            else:\n",
    "                print('It was neither Y nor N so I take as a N. Have a nice day!')\n",
    "                quit()\n",
    "    else:\n",
    "        print('Error: {}'.format(response.status_code))\n",
    "        print(response.json()['errorMessage'])\n",
    "findme()"
   ]
  },
  {
   "cell_type": "code",
   "execution_count": null,
   "id": "63b35d71",
   "metadata": {},
   "outputs": [],
   "source": []
  }
 ],
 "metadata": {
  "kernelspec": {
   "display_name": "Python 3",
   "language": "python",
   "name": "python3"
  },
  "language_info": {
   "codemirror_mode": {
    "name": "ipython",
    "version": 3
   },
   "file_extension": ".py",
   "mimetype": "text/x-python",
   "name": "python",
   "nbconvert_exporter": "python",
   "pygments_lexer": "ipython3",
   "version": "3.8.8"
  }
 },
 "nbformat": 4,
 "nbformat_minor": 5
}
