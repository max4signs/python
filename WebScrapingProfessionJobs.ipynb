{
 "cells": [
  {
   "cell_type": "markdown",
   "id": "ea5a98f6",
   "metadata": {},
   "source": [
    "Dear Guest,\n",
    "\n",
    "Please note that to run this code, it may take up to 9 minutes. (Last time I looped through 924 pages and 18474 vacancies.)\n",
    "\n",
    "What it does is basically downloads all the existing job vacancies from the largest Hungarian job portal called Profession.hu.\n",
    "\n",
    "Firstly, it calculates the number of pages and prints out how many pages are in the job portal.  \n",
    "\n",
    "Then it gets the main information of each vacancy, saves to a list and prints a text like \"Page №1 is ready\" so you can be sure that the code is running.\n",
    "\n",
    "After that it moves to the next page and repeats the same process up till it reaches the last page and the last vacancy. \n",
    "\n",
    "Last, but not least it creates an excel file and downloads to the the same folder where this code is situated.\n",
    "\n",
    "If I were you I would check the Downloads folder first."
   ]
  },
  {
   "cell_type": "code",
   "execution_count": null,
   "id": "8a97de7e",
   "metadata": {},
   "outputs": [],
   "source": [
    "import requests\n",
    "from bs4 import BeautifulSoup\n",
    "import math\n",
    "import pandas as pd"
   ]
  },
  {
   "cell_type": "code",
   "execution_count": null,
   "id": "a3f3c7e7",
   "metadata": {},
   "outputs": [],
   "source": [
    "url_base = 'https://www.profession.hu/allasok'\n",
    "response = requests.get(url_base)\n",
    "soup = BeautifulSoup(response.text, 'lxml')\n",
    "total_jobs = int(soup.find('div', class_ = 'job-list__count head d-flex align-items-center justify-content-between').text.strip('  db találat \\nSzűrés\\n\\n'))\n",
    "total_pages = math.ceil(total_jobs / 20)\n"
   ]
  },
  {
   "cell_type": "code",
   "execution_count": null,
   "id": "60dbd6df",
   "metadata": {},
   "outputs": [],
   "source": [
    "all_jobs = []"
   ]
  },
  {
   "cell_type": "code",
   "execution_count": null,
   "id": "cc593c25",
   "metadata": {},
   "outputs": [],
   "source": [
    "for i in range(1, total_pages + 1):\n",
    "    url_base = 'https://www.profession.hu/allasok' + '/' + str(i)\n",
    "    response = requests.get(url_base)\n",
    "    soup = BeautifulSoup(response.text, 'lxml')\n",
    "    containers = soup.findAll('div', class_ = 'card-body')\n",
    "    for container in containers:\n",
    "        job_title = container.h2.a.text.strip(' \\n')\n",
    "        company_name = container.find('a', class_ = 'link-icon' ).text.strip(' \\n')\n",
    "        job_address = container.find('div', class_ = 'job-card__company-address newarea mt-2 mt-md-0 icon map').text.strip(' \\n')\n",
    "        job_link = container.find('h2', class_ = 'job-card__title ga-enhanced-event-click').a['href']\n",
    "        all_jobs.append({'JobTitle' : job_title, \n",
    "                         'CompanyName' : company_name, \n",
    "                         'JobAddress' : job_address, \n",
    "                         'JobLink' :job_link})\n",
    "    print(f\"Page №{i} is ready.\")"
   ]
  },
  {
   "cell_type": "code",
   "execution_count": null,
   "id": "60fa70cd",
   "metadata": {},
   "outputs": [],
   "source": [
    "col = list(all_jobs[0].keys())\n",
    "df = pd.DataFrame(all_jobs, columns = col)\n",
    "df.to_excel('JobsProfession.xlsx')"
   ]
  },
  {
   "cell_type": "code",
   "execution_count": null,
   "id": "5efc4f5e",
   "metadata": {},
   "outputs": [],
   "source": []
  }
 ],
 "metadata": {
  "kernelspec": {
   "display_name": "Python 3",
   "language": "python",
   "name": "python3"
  },
  "language_info": {
   "codemirror_mode": {
    "name": "ipython",
    "version": 3
   },
   "file_extension": ".py",
   "mimetype": "text/x-python",
   "name": "python",
   "nbconvert_exporter": "python",
   "pygments_lexer": "ipython3",
   "version": "3.8.8"
  }
 },
 "nbformat": 4,
 "nbformat_minor": 5
}
