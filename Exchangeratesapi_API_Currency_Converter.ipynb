{
 "cells": [
  {
   "cell_type": "markdown",
   "id": "8c719e9a",
   "metadata": {},
   "source": [
    "Please note that unfortunately I do not have subscription. If I had it would work!"
   ]
  },
  {
   "cell_type": "code",
   "execution_count": 1,
   "id": "1a00dccb",
   "metadata": {},
   "outputs": [],
   "source": [
    "import requests"
   ]
  },
  {
   "cell_type": "code",
   "execution_count": 2,
   "id": "01504634",
   "metadata": {},
   "outputs": [
    {
     "name": "stdout",
     "output_type": "stream",
     "text": [
      "What currency? EUR\n",
      "To what currency? USD\n",
      "How much EUR do you want to convert? 100\n",
      "\n",
      "Error: 403\n",
      "Access Restricted - Your current Subscription Plan does not support this API Function.\n"
     ]
    }
   ],
   "source": [
    "base_url = 'http://api.exchangeratesapi.io/v1/convert?'\n",
    "key = 'access_key=6d09d71a3f3dc05e37b151217b569230'\n",
    "\n",
    "from_curr = input('What currency? ')\n",
    "to_curr = input('To what currency? ')\n",
    "amount = input('How much {} do you want to convert? '.format(from_curr))\n",
    "\n",
    "url = base_url + key + '&from=' + from_curr + '&to' + to_curr + '&amount=' + amount\n",
    "\n",
    "response = requests.get(url)\n",
    "\n",
    "if response.ok == False:\n",
    "    print('\\nError: {}'.format(response.status_code))\n",
    "    print(response.json()['error']['message'])\n",
    "else:\n",
    "    data = response.json()\n",
    "    rate = response.json()['rates'][from_curr]\n",
    "    result = float(amount) * rate\n",
    "    print('{0} {1} is equal to {2} {3}.'.format(amount, from_curr, result, to_curr))\n"
   ]
  },
  {
   "cell_type": "code",
   "execution_count": null,
   "id": "6e401877",
   "metadata": {},
   "outputs": [],
   "source": []
  }
 ],
 "metadata": {
  "kernelspec": {
   "display_name": "Python 3",
   "language": "python",
   "name": "python3"
  },
  "language_info": {
   "codemirror_mode": {
    "name": "ipython",
    "version": 3
   },
   "file_extension": ".py",
   "mimetype": "text/x-python",
   "name": "python",
   "nbconvert_exporter": "python",
   "pygments_lexer": "ipython3",
   "version": "3.8.8"
  }
 },
 "nbformat": 4,
 "nbformat_minor": 5
}
